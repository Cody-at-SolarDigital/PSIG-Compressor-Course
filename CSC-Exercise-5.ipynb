{
 "cells": [
  {
   "cell_type": "markdown",
   "id": "020a38ad",
   "metadata": {},
   "source": [
    "## Welcome to the PSIG Short Course on Centrifugal Compressors and Stations\n",
    "\n",
    "- This notebook accompanies the <a href=\"https://psig.org/conference/pipeline-simulation-short-course/\">Pipeline Simulation Short Course</a>\n",
    "\n",
    "- The source code is available at <a href=\"https://github.com/Cody-at-SolarTurbines/PSIG-Compressor-Course\">Cody-at-SolarTurbines</a>"
   ]
  },
  {
   "cell_type": "code",
   "execution_count": null,
   "id": "4fc109ee",
   "metadata": {},
   "outputs": [],
   "source": [
    "# special command for plotting\n",
    "%matplotlib widget\n",
    "\n",
    "# standard python modules\n",
    "import matplotlib.pyplot as plt\n",
    "import numpy as np\n",
    "from scipy.optimize import curve_fit\n",
    "from scipy.linalg import solve, inv\n",
    "import json"
   ]
  },
  {
   "cell_type": "markdown",
   "id": "51128572",
   "metadata": {},
   "source": [
    "## Exercise 5\n",
    "\n",
    "---\n",
    "\n",
    "<font size=\"4\">\n",
    "Suppose the following data set is obtained from a test cell:\n",
    "    \n",
    "<br/>    \n",
    "\n",
    "q = [3945, 2692, 4751, 6263, 5802] in ACFM \n",
    "\n",
    "p1 = [800, 801, 809, 806, 805] in psia\n",
    "    \n",
    "p2 = [676, 681, 680, 669, 671] in psia\n",
    "    \n",
    "T1 = [81, 81, 79, 80, 78, 80 ] in degF\n",
    "    \n",
    "Z1 = [0.966, 0.964, 0.963, 0.964, 0.965 ] unitless\n",
    "    \n",
    "SG = [0.555, 0.554, 0.556, 0.552, 0.555] unitless\n",
    "\n",
    "Estimate 𝛼 using a <a href=\"https://mathworld.wolfram.com/LeastSquaresFitting.html\">Least Squares</a> approach for equation: $Q = \\alpha \\sqrt{\\frac{(p_1 - p_2) T_1 Z_1}{ p_1 SG}} $\n",
    "</font>\n",
    "\n",
    "---"
   ]
  },
  {
   "cell_type": "markdown",
   "id": "4748a858",
   "metadata": {},
   "source": [
    "## Solution 5:\n",
    "\n",
    "<br/>\n",
    "\n",
    "There are many ways to estimate $\\alpha$.  We can do this numerically or calculate directly.  We do both below.\n",
    "\n",
    "<br/><br/>\n",
    "\n",
    "###  We will use Numpy and Scipy to implement the solution\n",
    "\n",
    "These are python packages for scientific computing\n",
    "- https://numpy.org/\n",
    "- https://scipy.org/"
   ]
  },
  {
   "cell_type": "markdown",
   "id": "e63443eb",
   "metadata": {},
   "source": [
    "### Import data\n",
    "\n",
    "- Import the data and convert the data to Numpy arrays for computation"
   ]
  },
  {
   "cell_type": "code",
   "execution_count": null,
   "id": "6b16c7bc",
   "metadata": {},
   "outputs": [],
   "source": [
    "# Import data from a json file\n",
    "with open('data.json', 'r') as openfile:\n",
    "    data = json.load(openfile)\n",
    "    \n",
    "# convert data lists to numpy arrays\n",
    "for k,v in data.items():\n",
    "    data[k] = np.array(v)\n",
    "    \n",
    "    # t1 variable is in degF and we need degR\n",
    "    if k == 't1':\n",
    "        data[k] += 460"
   ]
  },
  {
   "cell_type": "code",
   "execution_count": null,
   "id": "0e2692c8",
   "metadata": {},
   "outputs": [],
   "source": [
    "# create a DP variable\n",
    "data['p_diff'] = data['p1']-data['p2']\n",
    "\n",
    "# setup data in array\n",
    "data_raw = np.vstack((data['p1'],data['p2'],data['t1'],\n",
    "                      data['z1'],data['sg'],data['p_diff'],data['q']))\n",
    "\n",
    "# sort by differential pressure (this will make for nice connected points on the plot)\n",
    "data_sorted = data_raw[:,data_raw[5, :].argsort()]\n",
    "\n",
    "# setup x_data and y_data\n",
    "x_data = data_sorted[:5,:]\n",
    "y_data = data_sorted[6,:]"
   ]
  },
  {
   "cell_type": "markdown",
   "id": "425242ae",
   "metadata": {},
   "source": [
    "#### What just happened above?"
   ]
  },
  {
   "cell_type": "markdown",
   "id": "0687943c",
   "metadata": {},
   "source": [
    "1) create a numpy array of the individual arrays"
   ]
  },
  {
   "cell_type": "code",
   "execution_count": null,
   "id": "a02bd24d",
   "metadata": {},
   "outputs": [],
   "source": [
    "data_raw"
   ]
  },
  {
   "cell_type": "markdown",
   "id": "2c1ee350",
   "metadata": {},
   "source": [
    "2) sort the entire array by the sort of the 6th row (corresponds to p_diff variable)"
   ]
  },
  {
   "cell_type": "code",
   "execution_count": null,
   "id": "0a14666a",
   "metadata": {},
   "outputs": [],
   "source": [
    "print('Here are the values:\\t\\t\\t',data_raw[5, :])\n",
    "print('Here is the index sort values\\t\\t',data_raw[5, :].argsort())"
   ]
  },
  {
   "cell_type": "markdown",
   "id": "c354c448",
   "metadata": {},
   "source": [
    "3)  Here is the sorted data array"
   ]
  },
  {
   "cell_type": "code",
   "execution_count": null,
   "id": "73f75ce5",
   "metadata": {},
   "outputs": [],
   "source": [
    "data_sorted"
   ]
  },
  {
   "cell_type": "markdown",
   "id": "5b47952a",
   "metadata": {},
   "source": [
    "4) Down select for x_data only"
   ]
  },
  {
   "cell_type": "code",
   "execution_count": null,
   "id": "e2c650b1",
   "metadata": {},
   "outputs": [],
   "source": [
    "x_data"
   ]
  },
  {
   "cell_type": "markdown",
   "id": "d6cf6a83",
   "metadata": {},
   "source": [
    "## Visualize the data"
   ]
  },
  {
   "cell_type": "code",
   "execution_count": null,
   "id": "adca413a",
   "metadata": {},
   "outputs": [],
   "source": [
    "f, ax = plt.subplots(figsize=(9,7))\n",
    "ax.plot(data_sorted[5,:], data_sorted[6,:], 'o', markersize=10, label='Raw Data Points')\n",
    "ax.set_xlabel('DP [psia]')\n",
    "ax.set_ylabel('Q [ACFM]')\n",
    "ax.set_title('Raw Data for Exercise 5')\n",
    "ax.grid()\n",
    "ax.legend()"
   ]
  },
  {
   "cell_type": "markdown",
   "id": "83d5daf7",
   "metadata": {},
   "source": [
    "## Now create the flow function from the equation above"
   ]
  },
  {
   "cell_type": "code",
   "execution_count": null,
   "id": "01886fb9",
   "metadata": {},
   "outputs": [],
   "source": [
    "# create a function y = f(x_data,alpha)\n",
    "# Note that x_data[0] = p1; x_data[1] = p2; and so on as above\n",
    "\n",
    "def flow_q(x_data,alpha):\n",
    "    \"\"\" Flow function from equation \"\"\"\n",
    "    return alpha*np.sqrt((x_data[0]-x_data[1])*x_data[2]*x_data[3]/(x_data[0]*x_data[4]))"
   ]
  },
  {
   "cell_type": "markdown",
   "id": "53461dd4",
   "metadata": {},
   "source": [
    "### Use Scipy `curve_fit` method to find the optimal alpha value\n",
    "\n",
    "- initial guess of 1000"
   ]
  },
  {
   "cell_type": "code",
   "execution_count": null,
   "id": "c9037598",
   "metadata": {},
   "outputs": [],
   "source": [
    "help(curve_fit)"
   ]
  },
  {
   "cell_type": "code",
   "execution_count": null,
   "id": "f17d4189",
   "metadata": {},
   "outputs": [],
   "source": [
    "# popt = optimal coefficient\n",
    "# pcov = covariance of popt\n",
    "\n",
    "popt, pcov = curve_fit(flow_q,x_data,y_data,1000)\n",
    "alpha = popt[0]\n",
    "print(f'>>> The optimal alpha value is: {alpha}')"
   ]
  },
  {
   "cell_type": "markdown",
   "id": "5fd295ba",
   "metadata": {},
   "source": [
    "### Now predict the flow, based on the optimal $\\alpha$ and the given inputs"
   ]
  },
  {
   "cell_type": "code",
   "execution_count": null,
   "id": "2bf53c8a",
   "metadata": {},
   "outputs": [],
   "source": [
    "# we will call the estimated or predicted flow, yhat\n",
    "\n",
    "yhat = flow_q(x_data,alpha) "
   ]
  },
  {
   "cell_type": "markdown",
   "id": "afe6a8ae",
   "metadata": {},
   "source": [
    "## Visualize the data and the fit"
   ]
  },
  {
   "cell_type": "code",
   "execution_count": null,
   "id": "64bf30c8",
   "metadata": {},
   "outputs": [],
   "source": [
    "f, ax1 = plt.subplots(figsize=(9,7))\n",
    "ax1.plot(data_sorted[5,:], data_sorted[6,:], 'o', markersize=10, label='Raw Data Points')\n",
    "ax1.plot(data_sorted[5,:], yhat, '-s', label='Optimal Fit')\n",
    "ax1.set_xlabel('DP [psia]')\n",
    "ax1.set_ylabel('Q [ACFM]')\n",
    "ax1.set_title('Raw Data for Exercise 5')\n",
    "ax1.set_title(r'$\\alpha = $' + f'{alpha:.3f}')\n",
    "ax1.grid()\n",
    "ax1.legend()"
   ]
  },
  {
   "cell_type": "markdown",
   "id": "9e05aac7",
   "metadata": {},
   "source": [
    "### If we need $\\beta$, we can solve for it since $\\alpha = \\sqrt{1/\\beta} \\Leftrightarrow \\beta = 1/\\alpha^2$"
   ]
  },
  {
   "cell_type": "code",
   "execution_count": null,
   "id": "100baeaa",
   "metadata": {},
   "outputs": [],
   "source": [
    "beta = 1/alpha**2\n",
    "print(f'Beta = {beta:.10f}')"
   ]
  },
  {
   "cell_type": "markdown",
   "id": "c660c611",
   "metadata": {},
   "source": [
    "## Solution 5 (Bonus)\n",
    "\n",
    "$\\alpha$ can be calculated directly with <a href=\"https://mathworld.wolfram.com/LeastSquaresFitting.html\">sums</a> or <a href=\"https://www.khanacademy.org/math/linear-algebra/alternate-bases/orthogonal-projections/v/linear-algebra-least-squares-examples\">linear algebra</a>, instead of using a numerical solver like the Levenberg-Marquardt, which is the default in `curve_fit`.\n",
    "\n",
    "We will use linear algebra.  We want to put the data in the form $Ax = b$ and solve for $x$.  Note that the equation is of the form $Q_i=\\alpha K_i$, where $i$ is the $i$th observation and $K_i$ is constant in the input parameters!\n",
    "\n",
    "Therefore, we can simply solve the <a href=\"https://mathworld.wolfram.com/NormalEquation.html\">Normal Equation</a>: $x^* = (A^TA)^{-1}A^Tb = \\alpha$\n",
    "\n",
    "All that we need to do is create the matrix $A$ (which is 1-dimensional in this case)"
   ]
  },
  {
   "cell_type": "code",
   "execution_count": null,
   "id": "e067eb5d",
   "metadata": {},
   "outputs": [],
   "source": [
    "# setup matrix A\n",
    "\n",
    "A = np.array([flow_q(x_observation,1) for x_observation in x_data.T]).reshape((5,1))"
   ]
  },
  {
   "cell_type": "code",
   "execution_count": null,
   "id": "b95ed801",
   "metadata": {},
   "outputs": [],
   "source": [
    "# solve the normal equation\n",
    "\n",
    "alpha_normal = np.dot(np.dot(inv(np.dot(A.T,A)),A.T),y_data)\n",
    "\n",
    "print(f'Normal Equation alpha:\\t\\t\\t {alpha_normal[0]}')\n",
    "print(f'Numerically solved for alpha:\\t\\t {alpha}')"
   ]
  },
  {
   "cell_type": "code",
   "execution_count": null,
   "id": "820dedb9",
   "metadata": {},
   "outputs": [],
   "source": []
  }
 ],
 "metadata": {
  "kernelspec": {
   "display_name": "Python 3 (ipykernel)",
   "language": "python",
   "name": "python3"
  },
  "language_info": {
   "codemirror_mode": {
    "name": "ipython",
    "version": 3
   },
   "file_extension": ".py",
   "mimetype": "text/x-python",
   "name": "python",
   "nbconvert_exporter": "python",
   "pygments_lexer": "ipython3",
   "version": "3.9.10"
  }
 },
 "nbformat": 4,
 "nbformat_minor": 5
}
