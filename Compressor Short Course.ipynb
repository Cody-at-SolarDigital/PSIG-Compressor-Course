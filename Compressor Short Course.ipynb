{
 "cells": [
  {
   "cell_type": "markdown",
   "id": "67bc5b69",
   "metadata": {},
   "source": [
    "## Welcome to the PSIG Short Course on Centrifugal Compressors and Stations\n",
    "\n",
    "- This notebook accompanies the <a href=\"https://psig.org/conference/pipeline-simulation-short-course/\">Pipeline Simulation Short Course</a>"
   ]
  },
  {
   "cell_type": "code",
   "execution_count": 4,
   "id": "470e6a45",
   "metadata": {},
   "outputs": [],
   "source": [
    "# @hidden_cell\n",
    "\n",
    "%matplotlib notebook\n",
    "\n",
    "import os\n",
    "import sys\n",
    "import matplotlib.pyplot as plt\n",
    "import numpy as np\n",
    "import pandas as pd\n",
    "\n",
    "# import comp_opt modules\n",
    "import utils_flow as uf\n",
    "import utils_compressor as uc"
   ]
  },
  {
   "cell_type": "code",
   "execution_count": 2,
   "id": "0e1ae1cb",
   "metadata": {},
   "outputs": [
    {
     "name": "stdout",
     "output_type": "stream",
     "text": [
      "SG: 0.55368\n",
      "\n",
      "Q_B [MMSCFD] = 236.70\n",
      "\n",
      "Q_A [ACFM] = 2299.52\n",
      "\n",
      "p_dis: 1350.0\n",
      "\n",
      "Head [ft*lbf/lbm] = 14744.09\n",
      "\n"
     ]
    }
   ],
   "source": [
    "# exercise 2 (methane)\n",
    "f = uf.FlowUtils()\n",
    "c = uc.CompressorUtils\n",
    "\n",
    "mdot = 1e7 # [lbm/day]\n",
    "t_gas = 90 # [degF]\n",
    "p_gas = 1e3 # [psia]\n",
    "z = 0.90\n",
    "k = 1.25\n",
    "sg = 16.04/28.97\n",
    "print(f'SG: {sg:0.5f}\\n')\n",
    "\n",
    "# calculate flow in standard units\n",
    "qb = f.convert_mass_flow_to_qb(mdot)/1e6 # qb has units [MMSCFD]\n",
    "print(f'Q_B [MMSCFD] = {qb:0.2f}\\n')\n",
    "\n",
    "# calculate flow in actual units\n",
    "t_gas_rankin = t_gas + 460\n",
    "ksuc = f._calc_ksuc(t_gas_rankin, z)\n",
    "qa = f.convert_m_to_qa_acfm(mdot, ksuc, p_gas)\n",
    "print(f'Q_A [ACFM] = {qa:0.2f}\\n')\n",
    "\n",
    "# calculate isentropic head\n",
    "p_suc = p_gas\n",
    "p_dis = 1.35*p_suc\n",
    "print(f'p_dis: {p_dis}\\n')\n",
    "mratio = (k-1)/k\n",
    "head = c.comp_head(p_suc, p_dis, z, mratio, t_gas_rankin)\n",
    "print(f'Head [ft*lbf/lbm] = {head:0.2f}\\n')"
   ]
  },
  {
   "cell_type": "code",
   "execution_count": 18,
   "id": "73258317",
   "metadata": {},
   "outputs": [],
   "source": [
    "# exercise 4\n"
   ]
  },
  {
   "cell_type": "code",
   "execution_count": null,
   "id": "d1334673",
   "metadata": {},
   "outputs": [],
   "source": []
  },
  {
   "cell_type": "code",
   "execution_count": null,
   "id": "15f12b5e",
   "metadata": {},
   "outputs": [],
   "source": []
  }
 ],
 "metadata": {
  "kernelspec": {
   "display_name": "Python 3 (ipykernel)",
   "language": "python",
   "name": "python3"
  },
  "language_info": {
   "codemirror_mode": {
    "name": "ipython",
    "version": 3
   },
   "file_extension": ".py",
   "mimetype": "text/x-python",
   "name": "python",
   "nbconvert_exporter": "python",
   "pygments_lexer": "ipython3",
   "version": "3.9.10"
  }
 },
 "nbformat": 4,
 "nbformat_minor": 5
}
