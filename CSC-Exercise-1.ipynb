{
 "cells": [
  {
   "cell_type": "markdown",
   "id": "020a38ad",
   "metadata": {},
   "source": [
    "# Welcome to the PSIG Short Course on Centrifugal Compressors and Stations\n",
    "\n",
    "- This notebook accompanies the <a href=\"https://psig.org/conference/pipeline-simulation-short-course/\">Pipeline Simulation Short Course</a> \n",
    "\n",
    "- The source code is available at <a href=\"https://github.com/Cody-at-SolarTurbines/PSIG-Compressor-Course\">Cody-at-SolarTurbines</a>"
   ]
  },
  {
   "cell_type": "markdown",
   "id": "51128572",
   "metadata": {},
   "source": [
    "## Exercise 1\n",
    "\n",
    "---\n",
    "\n",
    "<font size=\"4\">\n",
    "In a compressor station application, show that for a given pressure and temperature, the \"real\" density is higher than the \"ideal\" density.\n",
    "</font>\n",
    "\n",
    "---"
   ]
  },
  {
   "cell_type": "markdown",
   "id": "19523c6d",
   "metadata": {},
   "source": [
    "## Solution:\n",
    "\n",
    "<br/>\n",
    "\n",
    "<font size=\"4\">\n",
    "The solution starts with the assumption for gas compressor stations:\n",
    "\n",
    "<br/>\n",
    "    \n",
    "$0 < Z(p,T) < 1$ and dividing through by $Z(p,T)$, we have: \n",
    "\n",
    "$\\Large 0 < 1 < \\frac{1}{Z(p,T)}$.\n",
    "\n",
    "<br/>\n",
    "    \n",
    "Now, comparing the <i>Real Gas</i> version of the <i>Ideal Gas</i> equation of state with the Ideal gas equation of state, we have:\n",
    "\n",
    "$\\Large\n",
    "\\rho_{ideal} = \\frac{p}{RT} < \\left(\\frac{1}{Z(p,t)}\\right) \\frac{p}{RT} = \\rho_{real}\n",
    "$\n",
    "    \n",
    "</font>"
   ]
  }
 ],
 "metadata": {
  "kernelspec": {
   "display_name": "Python 3 (ipykernel)",
   "language": "python",
   "name": "python3"
  },
  "language_info": {
   "codemirror_mode": {
    "name": "ipython",
    "version": 3
   },
   "file_extension": ".py",
   "mimetype": "text/x-python",
   "name": "python",
   "nbconvert_exporter": "python",
   "pygments_lexer": "ipython3",
   "version": "3.9.10"
  }
 },
 "nbformat": 4,
 "nbformat_minor": 5
}
